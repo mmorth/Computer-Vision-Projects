{
 "cells": [
  {
   "cell_type": "markdown",
   "metadata": {
    "deletable": false,
    "editable": false,
    "nbgrader": {
     "grade": false,
     "locked": true,
     "solution": false
    }
   },
   "source": [
    "# <font style = \"color:rgb(50,120,229)\">Auto Focus Assignment</font>\n",
    "\n",
    "Autofocus is implemented in all digital cameras these days. \n",
    "\n",
    "While using your phone camera, you may have noticed, the camera goes out of focus for a second or two, and the image looks blurry for a bit. The camera quickly performs some calculations and autofocuses to bring the subject in focus. \n",
    "\n",
    "In SLR cameras, autofocus is activated when we press the button half way through. You can see and hear parts of the lens moving as the camera tries to autofocus. \n",
    "\n",
    "Whether it is an SLR camera or your phone camera, autofocussing is done by taking a series of photos of the scene while changing the distance of the image sensor from the lens inside the camera.\n",
    "\n",
    "In this assignment, we will find the sharpest image in a video squence of a static scene. In essence, we will do the computation necessary for autofocussing. \n"
   ]
  },
  {
   "cell_type": "code",
   "execution_count": 1,
   "metadata": {
    "collapsed": true,
    "deletable": false,
    "editable": false,
    "nbgrader": {
     "grade": false,
     "locked": true,
     "solution": false
    }
   },
   "outputs": [],
   "source": [
    "// Import libraries\n",
    "#include <iostream>\n",
    "#include \"../resource/lib/public/includeLibraries.h\""
   ]
  },
  {
   "cell_type": "code",
   "execution_count": 2,
   "metadata": {
    "collapsed": true,
    "deletable": false,
    "editable": false,
    "nbgrader": {
     "grade": false,
     "locked": true,
     "solution": false
    }
   },
   "outputs": [],
   "source": [
    "#include <opencv2/opencv.hpp>\n",
    "#include <opencv2/core.hpp>\n",
    "#include \"../resource/lib/public/displayImages.h\""
   ]
  },
  {
   "cell_type": "code",
   "execution_count": 3,
   "metadata": {
    "collapsed": true,
    "deletable": false,
    "editable": false,
    "nbgrader": {
     "grade": false,
     "locked": true,
     "solution": false
    }
   },
   "outputs": [],
   "source": [
    "#include \"../resource/lib/public/matplotlibcpp.h\""
   ]
  },
  {
   "cell_type": "code",
   "execution_count": 4,
   "metadata": {
    "collapsed": true,
    "deletable": false,
    "editable": false,
    "nbgrader": {
     "grade": false,
     "locked": true,
     "solution": false
    }
   },
   "outputs": [],
   "source": [
    "#include <cmath>"
   ]
  },
  {
   "cell_type": "code",
   "execution_count": 5,
   "metadata": {
    "collapsed": true,
    "deletable": false,
    "editable": false,
    "nbgrader": {
     "grade": false,
     "locked": true,
     "solution": false
    }
   },
   "outputs": [],
   "source": [
    "using namespace std;"
   ]
  },
  {
   "cell_type": "code",
   "execution_count": 6,
   "metadata": {
    "collapsed": true,
    "deletable": false,
    "editable": false,
    "nbgrader": {
     "grade": false,
     "locked": true,
     "solution": false
    }
   },
   "outputs": [],
   "source": [
    "using namespace cv;"
   ]
  },
  {
   "cell_type": "code",
   "execution_count": 7,
   "metadata": {
    "collapsed": true,
    "deletable": false,
    "editable": false,
    "nbgrader": {
     "grade": false,
     "locked": true,
     "solution": false
    }
   },
   "outputs": [],
   "source": [
    "using namespace matplotlibcpp;"
   ]
  },
  {
   "cell_type": "markdown",
   "metadata": {
    "deletable": false,
    "editable": false,
    "nbgrader": {
     "grade": false,
     "locked": true,
     "solution": false
    }
   },
   "source": [
    "# <font style = \"color:rgb(50,120,229)\">Measures of Sharpness</font>\n",
    "\n",
    "How do we know if an image is sharp? What is a good measure of sharpness?\n",
    "\n",
    "As you can imagine, an out of focus image is smooth and does not have large gradient. So some function of the gradient (first derivative) of an image should help you. \n",
    "\n",
    "A different measure could be based on the second order derivative of the image called the Laplacian. \n",
    "\n",
    "In this assignment, you to have to read one paper and a section of another paper to figure out the sharpest image in a video sequence. \n",
    "\n",
    "1. [Diatom autofocusing in brightfield microscopy: a comparative study](http://decsai.ugr.es/vip/files/conferences/Autofocusing2000.pdf): This paper has several measures of sharpess. \n",
    "\n",
    "2. [Shape from Focus](http://www1.cs.columbia.edu/CAVE/publications/pdfs/Nayar_TR89.pdf): This paper is about estimating the 3D shape of a scene using focus information. In Section 5, the author discusses a measure of focus. "
   ]
  },
  {
   "cell_type": "markdown",
   "metadata": {
    "deletable": false,
    "editable": false,
    "nbgrader": {
     "grade": false,
     "locked": true,
     "solution": false
    }
   },
   "source": [
    "## <font style = \"color:rgb(50,120,229)\">Assignment Instructions</font>\n",
    "\n",
    "In this assignment, you have to implement the following measures of focus:\n",
    "\n",
    "1. **Variance of absolute values of Laplacian** - `var_abs_laplacian` function\n",
    "\n",
    "2. **Sum Modified Laplacian (SML)** - `sum_modified_laplacian` function\n",
    "\n",
    "You will also have to manually specify the ROI for the flower region in the frame so that instead of carrying out the auto focus measurement on the entire frame, it can be carried out only on the flower.\n",
    "\n",
    "## <font style = \"color:rgb(50,120,229)\">Grading Rubric</font>\n",
    "\n",
    "The assignment carries **30 marks** and the marks distribution is as follows.\n",
    "\n",
    "1. Implementing *Variance of absolute values of Laplacian* method - **10 marks** (Autograded)\n",
    "2. Implementing *Sum Modified Laplacian (SML)* method - **10 marks** (Autograded)\n",
    "3. Overall submission - **10 marks** (Manually graded)\n",
    "\n",
    "A total of **5 submissions** will be allowed.\n",
    "\n",
    "## <font style = \"color:rgb(50,120,229)\">Important Functions</font>\n",
    "\n",
    "Here are some important functions that you can use in this assignment.\n",
    "\n",
    "1. [`cv::filter2D`](https://docs.opencv.org/4.1.0/d4/d86/group__imgproc__filter.html#ga27c049795ce870216ddfb366086b5a04): Convolves an image with the kernel. The function applies an arbitrary linear filter to an image.\n",
    "\n",
    "2. [`cv::Laplacian`](https://docs.opencv.org/4.1.0/d4/d86/group__imgproc__filter.html#gad78703e4c8fe703d479c1860d76429e6): Calculates the Laplacian of an image.\n",
    "\n",
    "\n",
    "#### <font style = \"color:rgb(200,0,0)\">Note</font>\n",
    "Please do not look for code online!  \n",
    "\n",
    "<hr />"
   ]
  },
  {
   "cell_type": "code",
   "execution_count": 8,
   "metadata": {},
   "outputs": [],
   "source": [
    "// Implement Variance of absolute values of Laplacian - Method 1\n",
    "// Input: image\n",
    "// Output: Floating point number denoting the measure of sharpness of image\n",
    "\n",
    "// Do NOT change the function name and definition\n",
    "\n",
    "double var_abs_laplacian(Mat image){\n",
    "    ///\n",
    "    /// YOUR CODE HERE\n",
    "    ///\n",
    "    int kernelSize = 3;\n",
    "    Mat roi = image.clone();\n",
    "    cvtColor(roi, roi, COLOR_BGR2GRAY);\n",
    "    Laplacian(roi, roi, CV_32F, kernelSize, 1, 0);\n",
    "    roi = cv::abs(roi);\n",
    "    Mat mean, stdDev;\n",
    "    meanStdDev(roi, mean, stdDev);\n",
    "    return sum(mean)[0];\n",
    "}"
   ]
  },
  {
   "cell_type": "code",
   "execution_count": 9,
   "metadata": {
    "collapsed": true
   },
   "outputs": [],
   "source": [
    "// Implement Sum Modified Laplacian - Method 2\n",
    "// Input: image\n",
    "// Output: Floating point number denoting the measure of sharpness of image\n",
    "\n",
    "// Do NOT change the function name and definition\n",
    "\n",
    "double sum_modified_laplacian(Mat image){\n",
    "    ///\n",
    "    /// YOUR CODE HERE\n",
    "    ///\n",
    "    int step = 1;\n",
    "    Mat roi = image.clone();\n",
    "    cvtColor(roi, roi, COLOR_BGR2GRAY);\n",
    "    roi.convertTo(roi, CV_32FC1, 1/255.0);\n",
    "    for(int i=0; i<image.rows; i++) {\n",
    "        for(int j=0; j<image.cols; j++) {\n",
    "            roi.at<float>(i,j) = abs(2*roi.at<float>(i,j) - roi.at<float>(i-step,j) - roi.at<float>(i+step,j)) \n",
    "                                    + abs(2*roi.at<float>(i,j) - roi.at<float>(i,j-step) - roi.at<float>(i,j+step));\n",
    "        }\n",
    "    }\n",
    "    \n",
    "    return sum(roi)[0];\n",
    "}"
   ]
  },
  {
   "cell_type": "markdown",
   "metadata": {
    "deletable": false,
    "editable": false,
    "nbgrader": {
     "grade": false,
     "locked": true,
     "solution": false
    }
   },
   "source": [
    "Let's have a look at the input video.\n",
    "\n",
    "&nbsp;\n",
    "\n",
    "<center>\n",
    "<video controls width=800 src=\"https://www.dropbox.com/s/p3z0hbgo7sacqd1/focus-test.mp4?dl=1\" type=\"video/mp4\" />\n",
    "</center>"
   ]
  },
  {
   "cell_type": "code",
   "execution_count": 10,
   "metadata": {},
   "outputs": [
    {
     "name": "stdout",
     "output_type": "stream",
     "text": [
      "Total number of frames : 186================================================\n",
      "Frame ID of the best frame [Method 1]: 0\n",
      "Frame ID of the best frame [Method 2]: 0\n"
     ]
    }
   ],
   "source": [
    "// Read input video filename\n",
    "string filename = DATA_PATH + \"videos/focus-test.mp4\";\n",
    "\n",
    "// Create a VideoCapture object\n",
    "VideoCapture cap(filename);\n",
    "\n",
    "// Read first frame from the video\n",
    "Mat frame;\n",
    "cap >> frame;\n",
    "\n",
    "// Display total number of frames in the video\n",
    "cout << \"Total number of frames : \" << (int)cap.get(CAP_PROP_FRAME_COUNT);\n",
    "\n",
    "double maxV1 = 0;\n",
    "double maxV2 = 0;\n",
    "\n",
    "// Frame with maximum measure of focus\n",
    "// Obtained using methods 1 and 2\n",
    "Mat bestFrame1;\n",
    "Mat bestFrame2;\n",
    "\n",
    "// Frame ID of frame with maximum measure\n",
    "// of focus\n",
    "// Obtained using methods 1 and 2\n",
    "int bestFrameId1 = 0;\n",
    "int bestFrameId2 = 0;\n",
    "\n",
    "// Get measures of focus from both methods\n",
    "double val1 = var_abs_laplacian(frame);\n",
    "double val2 = sum_modified_laplacian(frame);\n",
    "\n",
    "// Specify the ROI for flower in the frame\n",
    "// UPDATE THE VALUES BELOW\n",
    "int topCorner = 50;\n",
    "int leftCorner = 50;\n",
    "int bottomCorner = 700;\n",
    "int rightCorner = 1200;\n",
    "\n",
    "Mat flower;\n",
    "flower = frame(Range(topCorner,bottomCorner),Range(leftCorner,rightCorner));\n",
    "\n",
    "// Iterate over all the frames present in the video\n",
    "while (1){\n",
    "    // Crop the flower region out of the frame\n",
    "    flower = frame(Range(topCorner,bottomCorner),Range(leftCorner,rightCorner));\n",
    "    // Get measures of focus from both methods\n",
    "    val1 = var_abs_laplacian(flower);\n",
    "    val2 = sum_modified_laplacian(flower);\n",
    "    // If the current measure of focus is greater \n",
    "    // than the current maximum\n",
    "    if (val1 > maxV1){\n",
    "        // Revise the current maximum\n",
    "        maxV1 = val1;\n",
    "        // Get frame ID of the new best frame\n",
    "        bestFrameId1 = (int)cap.get(CAP_PROP_POS_FRAMES);\n",
    "        // Revise the new best frame\n",
    "        bestFrame1 = frame.clone();\n",
    "        cout << \"Frame ID of the best frame [Method 1]: \" << bestFrameId1 << endl;\n",
    "    }\n",
    "    // If the current measure of focus is greater \n",
    "    // than the current maximum\n",
    "    if (val2 > maxV2){\n",
    "        // Revise the current maximum\n",
    "        maxV2 = val2;\n",
    "        // Get frame ID of the new best frame\n",
    "        bestFrameId2 = (int)cap.get(CAP_PROP_POS_FRAMES);\n",
    "        // Revise the new best frame\n",
    "        bestFrame2 = frame.clone();\n",
    "        cout << \"Frame ID of the best frame [Method 2]: \" << bestFrameId2 << endl;\n",
    "    }\n",
    "    cap >> frame;\n",
    "    if (frame.empty())\n",
    "        break;\n",
    "}\n",
    "\n",
    "cout << \"================================================\" << endl;\n",
    "\n",
    "// Print the Frame ID of the best frame\n",
    "cout << \"Frame ID of the best frame [Method 1]: \" << bestFrameId1 << endl;\n",
    "cout << \"Frame ID of the best frame [Method 2]: \" << bestFrameId2 << endl;\n",
    "\n",
    "cap.release();\n",
    "\n",
    "Mat out;\n",
    "hconcat(bestFrame1, bestFrame2, out);"
   ]
  },
  {
   "cell_type": "code",
   "execution_count": 11,
   "metadata": {},
   "outputs": [
    {
     "data": {
      "image/png": "[encoded data removed]"
     },
     "execution_count": 11,
     "metadata": {},
     "output_type": "execute_result"
    }
   ],
   "source": [
    "plt::figure_size(1200,500);\n",
    "plt::imshow(out);\n",
    "auto pltImg = displayImage(out);\n",
    "pltImg"
   ]
  },
  {
   "cell_type": "code",
   "execution_count": 12,
   "metadata": {
    "collapsed": true,
    "deletable": false,
    "editable": false,
    "nbgrader": {
     "grade": true,
     "grade_id": "Implementing Variance of absolute values of Laplacian method",
     "locked": true,
     "points": "10",
     "solution": false
    }
   },
   "outputs": [],
   "source": [
    "///\n",
    "/// AUTOGRADER TEST - DO NOT REMOVE\n",
    "///\n"
   ]
  },
  {
   "cell_type": "code",
   "execution_count": 13,
   "metadata": {
    "collapsed": true,
    "deletable": false,
    "editable": false,
    "nbgrader": {
     "grade": true,
     "grade_id": "Implementing Sum Modified Laplacian (SML) method",
     "locked": true,
     "points": "10",
     "solution": false
    }
   },
   "outputs": [],
   "source": [
    "///\n",
    "/// AUTOGRADER TEST - DO NOT REMOVE\n",
    "///\n"
   ]
  },
  {
   "cell_type": "markdown",
   "metadata": {},
   "source": [
    "# <font style = \"color:rgb(50,120,229)\">Additional Exercise</font>\n",
    "\n",
    "In this assignment you implemented 2 of the several measures of focus. Now, try to implement the rest of the measures of focus and see if your output matches the output you obtained using the above 2 methods. \n",
    "\n",
    "Which method do you think is the best one and why? Share your answers on the discussion forum."
   ]
  }
 ],
 "metadata": {
  "kernelspec": {
   "display_name": "C++14",
   "language": "C++14",
   "name": "xeus-cling-cpp14"
  },
  "language_info": {
   "codemirror_mode": "text/x-c++src",
   "file_extension": ".cpp",
   "mimetype": "text/x-c++src",
   "name": "c++",
   "version": "-std=c++14"
  }
 },
 "nbformat": 4,
 "nbformat_minor": 2
}
